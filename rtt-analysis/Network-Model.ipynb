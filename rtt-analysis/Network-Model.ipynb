{
 "cells": [
  {
   "cell_type": "code",
   "execution_count": 14,
   "id": "immediate-indicator",
   "metadata": {},
   "outputs": [
    {
     "name": "stdout",
     "output_type": "stream",
     "text": [
      "            City  Distance  Average  % of SOLf/o     min     max  mdev\n",
      "0       Secaucus         9     0.78       0.0000    0.68    1.22  0.11\n",
      "1       New York        27     2.09       0.1350    1.98    2.23  0.07\n",
      "2     Piscataway        50     1.26       0.5000    1.13    1.66  0.12\n",
      "3   Philadelphia       138     3.32       0.4600    3.17    3.46  0.09\n",
      "4       Cromwell       141     6.89       0.2350    6.74    7.22  0.15\n",
      "..           ...       ...      ...          ...     ...     ...   ...\n",
      "95    Manchester      5362    80.37       0.6703   80.24   80.73  0.32\n",
      "96       Bristol      5402    76.51       0.7108   76.31   77.31  0.45\n",
      "97        Lisbon      5414   117.75       0.4627  117.57  117.95  0.37\n",
      "98    Cheltenham      5422    79.60       0.6863   79.50   79.73  0.21\n",
      "99      Coventry      5442    83.72       0.6557   83.53   84.32  0.41\n",
      "\n",
      "[100 rows x 7 columns]\n"
     ]
    }
   ],
   "source": [
    "import pandas as pd\n",
    "\n",
    "table1 = pd.read_excel(\"../data/inter-city/ping-to-manhattan.xls\")\n",
    "table1 = table1.apply(lambda x: x.str.strip() if x.dtype == \"object\" else x)\n",
    "table1 = table1.replace({r'km$': '', r'ms$': ''}, regex=True)\n",
    "table1[[\"min\", \"max\", \"Distance\", \"Average\"]] = table1[[\"min\", \"max\", \"Distance\", \"Average\"]].apply(pd.to_numeric)\n",
    "print(table1[0:100])"
   ]
  },
  {
   "cell_type": "code",
   "execution_count": 15,
   "id": "homeless-school",
   "metadata": {},
   "outputs": [
    {
     "name": "stdout",
     "output_type": "stream",
     "text": [
      "fit score: 0.82\n",
      "speedup: 1.63\n",
      "base cost: 6.58 ms\n"
     ]
    }
   ],
   "source": [
    "\n",
    "from sklearn import linear_model\n",
    "import numpy as np\n",
    "\n",
    "lm = linear_model.LinearRegression()\n",
    "X = np.array(table1[\"Distance\"][0:100]).reshape(-1, 1)\n",
    "y = table1[\"min\"][0:100]\n",
    "model = lm.fit(X, y)\n",
    "\n",
    "predictions = lm.predict(X)\n",
    "print(\"fit score: {:0.2f}\".format(lm.score(X,y)))\n",
    "print(\"speedup: {:0.2f}\".format(100*lm.coef_[0])) # slope\n",
    "print(\"base cost: {:0.2f} ms\".format(lm.intercept_)) # intercept\n"
   ]
  },
  {
   "cell_type": "code",
   "execution_count": null,
   "id": "christian-conservative",
   "metadata": {},
   "outputs": [],
   "source": []
  }
 ],
 "metadata": {
  "kernelspec": {
   "display_name": "Python 3",
   "language": "python",
   "name": "python3"
  },
  "language_info": {
   "codemirror_mode": {
    "name": "ipython",
    "version": 3
   },
   "file_extension": ".py",
   "mimetype": "text/x-python",
   "name": "python",
   "nbconvert_exporter": "python",
   "pygments_lexer": "ipython3",
   "version": "3.6.9"
  }
 },
 "nbformat": 4,
 "nbformat_minor": 5
}
